{
 "cells": [
  {
   "cell_type": "code",
   "execution_count": 3,
   "metadata": {},
   "outputs": [
    {
     "ename": "ImportError",
     "evalue": "cannot import name 'CNNEncoder' from 'model' (/home/george-vengrovski/Documents/studying/cs_572/final_project/model.py)",
     "output_type": "error",
     "traceback": [
      "\u001b[0;31m---------------------------------------------------------------------------\u001b[0m",
      "\u001b[0;31mImportError\u001b[0m                               Traceback (most recent call last)",
      "Cell \u001b[0;32mIn[3], line 1\u001b[0m\n\u001b[0;32m----> 1\u001b[0m \u001b[39mfrom\u001b[39;00m \u001b[39mmodel\u001b[39;00m \u001b[39mimport\u001b[39;00m CNNEncoder\n\u001b[1;32m      4\u001b[0m \u001b[39m# Example usage:\u001b[39;00m\n\u001b[1;32m      5\u001b[0m input_channels \u001b[39m=\u001b[39m \u001b[39m1\u001b[39m  \u001b[39m# MNIST images are grayscale\u001b[39;00m\n",
      "\u001b[0;31mImportError\u001b[0m: cannot import name 'CNNEncoder' from 'model' (/home/george-vengrovski/Documents/studying/cs_572/final_project/model.py)"
     ]
    }
   ],
   "source": [
    "from model import CNNEncoder\n",
    "\n",
    "\n",
    "# Example usage:\n",
    "input_channels = 1  # MNIST images are grayscale\n",
    "num_layers = 3\n",
    "layer_params = [\n",
    "    {'out_channels': 32, 'kernel_size': 3, 'stride': 1, 'padding': 1},\n",
    "    {'out_channels': 64, 'kernel_size': 3, 'stride': 1, 'padding': 1},\n",
    "    {'out_channels': 128, 'kernel_size': 3, 'stride': 1, 'padding': 1},\n",
    "]\n",
    "embedding_dim = 128\n",
    "\n",
    "model = CNNEncoder(input_channels, num_layers, layer_params, embedding_dim)\n",
    "print(model)"
   ]
  }
 ],
 "metadata": {
  "kernelspec": {
   "display_name": "tweetybert",
   "language": "python",
   "name": "python3"
  },
  "language_info": {
   "codemirror_mode": {
    "name": "ipython",
    "version": 3
   },
   "file_extension": ".py",
   "mimetype": "text/x-python",
   "name": "python",
   "nbconvert_exporter": "python",
   "pygments_lexer": "ipython3",
   "version": "3.11.7"
  },
  "orig_nbformat": 4
 },
 "nbformat": 4,
 "nbformat_minor": 2
}
