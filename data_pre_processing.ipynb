{
 "cells": [
  {
   "cell_type": "markdown",
   "metadata": {},
   "source": [
    "## First I want to break up the train into 20% dev and 80% precent train"
   ]
  },
  {
   "cell_type": "code",
   "execution_count": null,
   "metadata": {},
   "outputs": [],
   "source": [
    "import pandas as pd\n",
    "import numpy as np\n",
    "\n",
    "def split_csv(input_csv, train_csv, dev_csv, dev_ratio=0.2):\n",
    "    # Read the input CSV file\n",
    "    data = pd.read_csv(input_csv)\n",
    "    \n",
    "    # Shuffle the data\n",
    "    data = data.sample(frac=1, random_state=42).reset_index(drop=True)\n",
    "    \n",
    "    # Calculate the number of development examples\n",
    "    dev_size = int(len(data) * dev_ratio)\n",
    "    \n",
    "    # Split the data into training and development sets\n",
    "    dev_data = data.iloc[:dev_size]\n",
    "    train_data = data.iloc[dev_size:]\n",
    "    \n",
    "    # Save the split data into separate CSV files\n",
    "    train_data.to_csv(train_csv, index=False)\n",
    "    dev_data.to_csv(dev_csv, index=False)\n",
    "\n",
    "# Example usage\n",
    "input_csv = 'original_train.csv'\n",
    "train_csv = 'train.csv'\n",
    "dev_csv = 'dev.csv'\n",
    "split_csv(input_csv, train_csv, dev_csv, dev_ratio=0.2)\n"
   ]
  }
 ],
 "metadata": {
  "kernelspec": {
   "display_name": "tweetybert",
   "language": "python",
   "name": "python3"
  },
  "language_info": {
   "name": "python",
   "version": "3.11.7"
  },
  "orig_nbformat": 4
 },
 "nbformat": 4,
 "nbformat_minor": 2
}
